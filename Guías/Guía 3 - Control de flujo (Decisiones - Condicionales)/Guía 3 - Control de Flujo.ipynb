{
 "cells": [
  {
   "cell_type": "markdown",
   "id": "0ad16932-1c1d-4db9-af83-2763c5a29995",
   "metadata": {},
   "source": [
    "<h1> <center>Guía 3: Control de flujo</h1>"
   ]
  },
  {
   "cell_type": "markdown",
   "id": "24de2f37-6cd1-471f-8d98-5aac7ecd834e",
   "metadata": {},
   "source": [
    "**Profesor**: John Serrano - john.serrano@usach.cl"
   ]
  },
  {
   "cell_type": "markdown",
   "id": "6ad1e069-9054-4e7f-9975-6851cec96bd3",
   "metadata": {},
   "source": [
    "# **Operadores de comparación**"
   ]
  },
  {
   "cell_type": "markdown",
   "id": "59f3b8c5-0668-4943-944e-f34334da1a04",
   "metadata": {},
   "source": [
    "En Python, los operadores de comparación se utilizan para comparar dos valores y devolver un valor booleano (True o False)."
   ]
  },
  {
   "cell_type": "markdown",
   "id": "a524c7fa-7c8d-4fa2-807d-566a5ebfd3ce",
   "metadata": {},
   "source": [
    "### **Igualdad (==)**"
   ]
  },
  {
   "cell_type": "markdown",
   "id": "b54693de-79f7-4548-89fd-74a9ae3b7064",
   "metadata": {},
   "source": [
    "**La igualdad compara dos elementos y verifica si son iguales.** Hay que tener un poco de cuidado, ya que hay algunos casos donde a pesar del tipo de dato, Python retornará True en una comparación (Por ejemplo, comparan un número int con su contraparte float con parte decimal 0)"
   ]
  },
  {
   "cell_type": "code",
   "execution_count": 1,
   "id": "4eca5d59-339c-4d1c-abbb-009001a43238",
   "metadata": {},
   "outputs": [
    {
     "data": {
      "text/plain": [
       "True"
      ]
     },
     "execution_count": 1,
     "metadata": {},
     "output_type": "execute_result"
    }
   ],
   "source": [
    "3 == 3"
   ]
  },
  {
   "cell_type": "code",
   "execution_count": 2,
   "id": "9a33951a-047a-4aab-9608-9ffc8daa20b9",
   "metadata": {},
   "outputs": [
    {
     "data": {
      "text/plain": [
       "False"
      ]
     },
     "execution_count": 2,
     "metadata": {},
     "output_type": "execute_result"
    }
   ],
   "source": [
    "3 == 4"
   ]
  },
  {
   "cell_type": "code",
   "execution_count": 3,
   "id": "cd50c638-4238-4c43-a84f-3e8370a13953",
   "metadata": {},
   "outputs": [
    {
     "data": {
      "text/plain": [
       "True"
      ]
     },
     "execution_count": 3,
     "metadata": {},
     "output_type": "execute_result"
    }
   ],
   "source": [
    "3 == 3.0"
   ]
  },
  {
   "cell_type": "code",
   "execution_count": 4,
   "id": "dd04b8ee-d0c0-4927-aa41-64e22fc665fe",
   "metadata": {},
   "outputs": [
    {
     "data": {
      "text/plain": [
       "True"
      ]
     },
     "execution_count": 4,
     "metadata": {},
     "output_type": "execute_result"
    }
   ],
   "source": [
    "0 == -0"
   ]
  },
  {
   "cell_type": "code",
   "execution_count": 5,
   "id": "f98880b6-d8cc-44db-b968-41177cdc9e0c",
   "metadata": {},
   "outputs": [
    {
     "data": {
      "text/plain": [
       "False"
      ]
     },
     "execution_count": 5,
     "metadata": {},
     "output_type": "execute_result"
    }
   ],
   "source": [
    "# Notar que el segundo string tiene un espacio extra\n",
    "\"esto es un string\" == \"esto es un  string\""
   ]
  },
  {
   "cell_type": "code",
   "execution_count": 6,
   "id": "800b9cfd-e164-4c3f-ae6b-dae52701884e",
   "metadata": {},
   "outputs": [
    {
     "data": {
      "text/plain": [
       "True"
      ]
     },
     "execution_count": 6,
     "metadata": {},
     "output_type": "execute_result"
    }
   ],
   "source": [
    "True == 1"
   ]
  },
  {
   "cell_type": "code",
   "execution_count": 7,
   "id": "886b1b2e-6135-47a8-8686-f9f8f6adeaf9",
   "metadata": {},
   "outputs": [
    {
     "data": {
      "text/plain": [
       "False"
      ]
     },
     "execution_count": 7,
     "metadata": {},
     "output_type": "execute_result"
    }
   ],
   "source": [
    "True == 0"
   ]
  },
  {
   "cell_type": "markdown",
   "id": "eda64b60-a9e9-4957-b1d8-4c8cf20acba6",
   "metadata": {},
   "source": [
    "### **Desigualdad (!=)**"
   ]
  },
  {
   "cell_type": "markdown",
   "id": "3b397fb7-d4a5-406e-b2cd-82cec3688b91",
   "metadata": {},
   "source": [
    "La desigualdad verifica si dos valores son diferentes. Cuidado al escribir el simbolo, ya que si se escribe al revés (=!), Python dará un error."
   ]
  },
  {
   "cell_type": "code",
   "execution_count": 8,
   "id": "d1878eb6-bd17-49e9-aa8a-f553b5f2fcea",
   "metadata": {},
   "outputs": [
    {
     "data": {
      "text/plain": [
       "True"
      ]
     },
     "execution_count": 8,
     "metadata": {},
     "output_type": "execute_result"
    }
   ],
   "source": [
    "5 != 3"
   ]
  },
  {
   "cell_type": "code",
   "execution_count": 9,
   "id": "41f6221f-628f-4ce5-97b7-752b1ab5ed43",
   "metadata": {},
   "outputs": [
    {
     "data": {
      "text/plain": [
       "False"
      ]
     },
     "execution_count": 9,
     "metadata": {},
     "output_type": "execute_result"
    }
   ],
   "source": [
    "3 != 3"
   ]
  },
  {
   "cell_type": "code",
   "execution_count": 10,
   "id": "47cabec3-58e4-41cd-8178-bd8bb1acc580",
   "metadata": {},
   "outputs": [
    {
     "data": {
      "text/plain": [
       "False"
      ]
     },
     "execution_count": 10,
     "metadata": {},
     "output_type": "execute_result"
    }
   ],
   "source": [
    "3.0 != 3"
   ]
  },
  {
   "cell_type": "code",
   "execution_count": 11,
   "id": "7dac0c84-180a-4006-b427-851b6588fea0",
   "metadata": {},
   "outputs": [
    {
     "data": {
      "text/plain": [
       "True"
      ]
     },
     "execution_count": 11,
     "metadata": {},
     "output_type": "execute_result"
    }
   ],
   "source": [
    "\"Fundamentos de programación\" != \"Fundamentos de Computación y Programación\""
   ]
  },
  {
   "cell_type": "markdown",
   "id": "2d3d2717-1049-4b9a-bd68-94d7aa658ff1",
   "metadata": {},
   "source": [
    "### **Mayor que y menor que (> o <)**"
   ]
  },
  {
   "cell_type": "markdown",
   "id": "c26ce3f4-9b28-4277-a349-0b8edfaab5d7",
   "metadata": {},
   "source": [
    "**Verifica si el valor de la izquierda es mayor o menor que el de la derecha.**"
   ]
  },
  {
   "cell_type": "code",
   "execution_count": 12,
   "id": "729951e6-5968-4426-bce1-bfac5678a27a",
   "metadata": {},
   "outputs": [
    {
     "data": {
      "text/plain": [
       "False"
      ]
     },
     "execution_count": 12,
     "metadata": {},
     "output_type": "execute_result"
    }
   ],
   "source": [
    "3 > 10"
   ]
  },
  {
   "cell_type": "code",
   "execution_count": 13,
   "id": "b8112a14-6350-4060-a1c8-041c7eaabb2a",
   "metadata": {},
   "outputs": [
    {
     "data": {
      "text/plain": [
       "False"
      ]
     },
     "execution_count": 13,
     "metadata": {},
     "output_type": "execute_result"
    }
   ],
   "source": [
    "3.0 > 3"
   ]
  },
  {
   "cell_type": "code",
   "execution_count": 14,
   "id": "70da5596-48f2-4ebd-949b-a187d0755314",
   "metadata": {},
   "outputs": [
    {
     "data": {
      "text/plain": [
       "True"
      ]
     },
     "execution_count": 14,
     "metadata": {},
     "output_type": "execute_result"
    }
   ],
   "source": [
    "0 < 100"
   ]
  },
  {
   "cell_type": "code",
   "execution_count": 15,
   "id": "39426592-ae2d-4136-bc4f-6917b4ea1c4a",
   "metadata": {},
   "outputs": [
    {
     "data": {
      "text/plain": [
       "True"
      ]
     },
     "execution_count": 15,
     "metadata": {},
     "output_type": "execute_result"
    }
   ],
   "source": [
    "# El resultado se debe al código ASCII que se ha mencionado durante clases\n",
    "\"A\" < \"a\""
   ]
  },
  {
   "cell_type": "code",
   "execution_count": 16,
   "id": "7d14bf04-480c-40ee-89e1-d960c6983bc2",
   "metadata": {},
   "outputs": [
    {
     "data": {
      "text/plain": [
       "True"
      ]
     },
     "execution_count": 16,
     "metadata": {},
     "output_type": "execute_result"
    }
   ],
   "source": [
    "# En casos como estos, primero se compara si h < m, lo cual es True. Dado eso, se obtiene True en la comparación.\n",
    "\"hola\" < \"mundo\""
   ]
  },
  {
   "cell_type": "code",
   "execution_count": 17,
   "id": "d8c9b619-b0c5-42d2-959a-4ee5be514ad0",
   "metadata": {},
   "outputs": [
    {
     "data": {
      "text/plain": [
       "True"
      ]
     },
     "execution_count": 17,
     "metadata": {},
     "output_type": "execute_result"
    }
   ],
   "source": [
    "\"h\" < \"m\""
   ]
  },
  {
   "cell_type": "code",
   "execution_count": 18,
   "id": "acc2a978-4fb8-4ac0-b1cc-0354d016485f",
   "metadata": {},
   "outputs": [
    {
     "data": {
      "text/plain": [
       "False"
      ]
     },
     "execution_count": 18,
     "metadata": {},
     "output_type": "execute_result"
    }
   ],
   "source": [
    "# Recordar que True = 1 y False = 0.\n",
    "True < False"
   ]
  },
  {
   "cell_type": "markdown",
   "id": "edb56c32-71e0-4352-8da6-fc133211e0b1",
   "metadata": {},
   "source": [
    "### **Mayor o igual que o menor o igual que (>= o <=)**"
   ]
  },
  {
   "cell_type": "markdown",
   "id": "7f6587a6-55f0-4cb2-8573-9ef6e6bc1801",
   "metadata": {},
   "source": [
    "**Verifica si el valor de la izquierda es mayor o igual o menor o igual que el de la derecha.** El símbolo de igual se escribe directamente después del símbolo de mayor o menor, ya que es imposible escribir algo abajo del símbolo de mayor o menor como lo hacemos en nuestro lenguaje natural."
   ]
  },
  {
   "cell_type": "code",
   "execution_count": 19,
   "id": "c70b9a15-09a5-418d-b6f3-1e2e04ed929d",
   "metadata": {},
   "outputs": [
    {
     "data": {
      "text/plain": [
       "True"
      ]
     },
     "execution_count": 19,
     "metadata": {},
     "output_type": "execute_result"
    }
   ],
   "source": [
    "3 >= 3.0"
   ]
  },
  {
   "cell_type": "code",
   "execution_count": 20,
   "id": "818a935a-bd28-4c2d-928c-fd4b05cd8aef",
   "metadata": {},
   "outputs": [
    {
     "data": {
      "text/plain": [
       "True"
      ]
     },
     "execution_count": 20,
     "metadata": {},
     "output_type": "execute_result"
    }
   ],
   "source": [
    "\"hola\" >= \"hello\""
   ]
  },
  {
   "cell_type": "code",
   "execution_count": 21,
   "id": "f1246461-f2da-409f-a2e4-fde0450bc4a7",
   "metadata": {},
   "outputs": [
    {
     "data": {
      "text/plain": [
       "False"
      ]
     },
     "execution_count": 21,
     "metadata": {},
     "output_type": "execute_result"
    }
   ],
   "source": [
    "True >= 3"
   ]
  },
  {
   "cell_type": "code",
   "execution_count": 22,
   "id": "8a5cc1db-377e-46c6-80a9-7ae023db1fb0",
   "metadata": {},
   "outputs": [
    {
     "data": {
      "text/plain": [
       "True"
      ]
     },
     "execution_count": 22,
     "metadata": {},
     "output_type": "execute_result"
    }
   ],
   "source": [
    "10.00000000000 <= 10.0"
   ]
  },
  {
   "cell_type": "markdown",
   "id": "c8e41d5a-d254-4149-9b4d-64e5fa09aebb",
   "metadata": {},
   "source": [
    "# **Operadores booleanos**"
   ]
  },
  {
   "cell_type": "markdown",
   "id": "f8063705-c371-43d8-9f94-0ce9ef63770c",
   "metadata": {},
   "source": [
    "En Python, los operadores booleanos se utilizan para combinar o invertir expresiones booleanas (que son True o False). Debemos recordar las tablas de verdad vistas en Álgebra I.\n",
    "\n",
    "**NOTA: Debemos recordar que el True de booleanos es equivalente a cualquier elemento que no sea 0 y sus representaciones. Lo mismo con False, es equivalente a 0 y todas sus representaciones (0, 0.0, 0+0j)**"
   ]
  },
  {
   "cell_type": "markdown",
   "id": "354f12c0-6c06-4698-a05f-0dd6d04bfa41",
   "metadata": {},
   "source": [
    "### **And (y lógico)**"
   ]
  },
  {
   "attachments": {
    "2d951d93-6464-4844-9590-6e69bd0ffd06.png": {
     "image/png": "[encoded data removed]"
    }
   },
   "cell_type": "markdown",
   "id": "36ca76f3-faca-475b-b0eb-afc17f95bb45",
   "metadata": {},
   "source": [
    "**Devuelve True si ambas expresiones son True. De lo contrario, devuelve False.**\n",
    "\n",
    "![image.png](attachment:2d951d93-6464-4844-9590-6e69bd0ffd06.png)"
   ]
  },
  {
   "cell_type": "code",
   "execution_count": 23,
   "id": "130d9eee-ee70-4cbd-b7dd-16b4e6660d38",
   "metadata": {},
   "outputs": [
    {
     "data": {
      "text/plain": [
       "False"
      ]
     },
     "execution_count": 23,
     "metadata": {},
     "output_type": "execute_result"
    }
   ],
   "source": [
    "False and False"
   ]
  },
  {
   "cell_type": "code",
   "execution_count": 24,
   "id": "ff239b60-c02f-497d-b045-fedf20c78be6",
   "metadata": {},
   "outputs": [
    {
     "data": {
      "text/plain": [
       "False"
      ]
     },
     "execution_count": 24,
     "metadata": {},
     "output_type": "execute_result"
    }
   ],
   "source": [
    "False and True"
   ]
  },
  {
   "cell_type": "code",
   "execution_count": 25,
   "id": "b2518097-74a7-4a87-9511-18430b9ea8da",
   "metadata": {},
   "outputs": [
    {
     "data": {
      "text/plain": [
       "False"
      ]
     },
     "execution_count": 25,
     "metadata": {},
     "output_type": "execute_result"
    }
   ],
   "source": [
    "True and False"
   ]
  },
  {
   "cell_type": "code",
   "execution_count": 26,
   "id": "74bec3ea-f4f2-416b-89e8-3e35b35ad403",
   "metadata": {},
   "outputs": [
    {
     "data": {
      "text/plain": [
       "True"
      ]
     },
     "execution_count": 26,
     "metadata": {},
     "output_type": "execute_result"
    }
   ],
   "source": [
    "True and True"
   ]
  },
  {
   "cell_type": "code",
   "execution_count": 27,
   "id": "e5b39355-8150-463b-8208-ca8b518ea8eb",
   "metadata": {},
   "outputs": [
    {
     "data": {
      "text/plain": [
       "1"
      ]
     },
     "execution_count": 27,
     "metadata": {},
     "output_type": "execute_result"
    }
   ],
   "source": [
    "2 and 1"
   ]
  },
  {
   "cell_type": "code",
   "execution_count": 28,
   "id": "e2f2db52-0fce-4b09-bcc4-beb7c84a39e2",
   "metadata": {},
   "outputs": [
    {
     "data": {
      "text/plain": [
       "0"
      ]
     },
     "execution_count": 28,
     "metadata": {},
     "output_type": "execute_result"
    }
   ],
   "source": [
    "1 and 0"
   ]
  },
  {
   "cell_type": "code",
   "execution_count": 29,
   "id": "c3fbd70a-c6be-4ece-b315-145119b19b2b",
   "metadata": {},
   "outputs": [
    {
     "data": {
      "text/plain": [
       "0"
      ]
     },
     "execution_count": 29,
     "metadata": {},
     "output_type": "execute_result"
    }
   ],
   "source": [
    "0 and True"
   ]
  },
  {
   "cell_type": "markdown",
   "id": "535b8470-0674-4230-bc24-1dcfd6bd6d7d",
   "metadata": {},
   "source": [
    "### **Or (o lógico)**"
   ]
  },
  {
   "attachments": {
    "dc304dbc-ab63-44c2-8937-559f606c6c3c.png": {
     "image/png": "[encoded data removed]"
    }
   },
   "cell_type": "markdown",
   "id": "5272ecf9-46f5-446f-be12-41fecc6cf52f",
   "metadata": {},
   "source": [
    "**Devuelve True si al menos una de las expresiones es True. Solo devuelve False si ambas son False.**\n",
    "\n",
    "![image.png](attachment:dc304dbc-ab63-44c2-8937-559f606c6c3c.png)"
   ]
  },
  {
   "cell_type": "code",
   "execution_count": 1,
   "id": "73576585-e61b-4df1-b9eb-f9ba31f349ef",
   "metadata": {},
   "outputs": [
    {
     "data": {
      "text/plain": [
       "False"
      ]
     },
     "execution_count": 1,
     "metadata": {},
     "output_type": "execute_result"
    }
   ],
   "source": [
    "False or False"
   ]
  },
  {
   "cell_type": "code",
   "execution_count": 2,
   "id": "9f8522cd-3e9a-4729-8ee5-1f12a7180bec",
   "metadata": {},
   "outputs": [
    {
     "data": {
      "text/plain": [
       "True"
      ]
     },
     "execution_count": 2,
     "metadata": {},
     "output_type": "execute_result"
    }
   ],
   "source": [
    "False or True"
   ]
  },
  {
   "cell_type": "code",
   "execution_count": 3,
   "id": "65bd57bf-0019-4646-9074-9e2a2a452098",
   "metadata": {},
   "outputs": [
    {
     "data": {
      "text/plain": [
       "True"
      ]
     },
     "execution_count": 3,
     "metadata": {},
     "output_type": "execute_result"
    }
   ],
   "source": [
    "True or False"
   ]
  },
  {
   "cell_type": "code",
   "execution_count": 5,
   "id": "00f42c58-d458-431d-9fea-dde5f1757d0e",
   "metadata": {},
   "outputs": [
    {
     "data": {
      "text/plain": [
       "True"
      ]
     },
     "execution_count": 5,
     "metadata": {},
     "output_type": "execute_result"
    }
   ],
   "source": [
    "True or True"
   ]
  },
  {
   "cell_type": "code",
   "execution_count": 6,
   "id": "3643315e-ff39-4f7f-9cc5-87c8d37d7a64",
   "metadata": {},
   "outputs": [
    {
     "data": {
      "text/plain": [
       "3"
      ]
     },
     "execution_count": 6,
     "metadata": {},
     "output_type": "execute_result"
    }
   ],
   "source": [
    "3 or 0"
   ]
  },
  {
   "cell_type": "code",
   "execution_count": 7,
   "id": "b41f261a-14b7-41e6-b7b1-851ec89afcd0",
   "metadata": {},
   "outputs": [
    {
     "data": {
      "text/plain": [
       "1"
      ]
     },
     "execution_count": 7,
     "metadata": {},
     "output_type": "execute_result"
    }
   ],
   "source": [
    "1 or 0"
   ]
  },
  {
   "cell_type": "code",
   "execution_count": 8,
   "id": "96e66fb6-feb1-4bbd-b715-b05c92748732",
   "metadata": {},
   "outputs": [
    {
     "data": {
      "text/plain": [
       "0"
      ]
     },
     "execution_count": 8,
     "metadata": {},
     "output_type": "execute_result"
    }
   ],
   "source": [
    "0 or 0"
   ]
  },
  {
   "cell_type": "code",
   "execution_count": 9,
   "id": "fdb03c37-5749-42a4-9717-7cb4f5a91955",
   "metadata": {},
   "outputs": [
    {
     "data": {
      "text/plain": [
       "True"
      ]
     },
     "execution_count": 9,
     "metadata": {},
     "output_type": "execute_result"
    }
   ],
   "source": [
    "0 or True"
   ]
  },
  {
   "cell_type": "markdown",
   "id": "8ecf6a8e-8bde-45be-81e9-a226230ad725",
   "metadata": {},
   "source": [
    "### **Not (negación lógica)**"
   ]
  },
  {
   "attachments": {
    "e275411c-e5fe-4b7e-a7d0-d83ea1ba0d29.png": {
     "image/png": "[encoded data removed]"
    }
   },
   "cell_type": "markdown",
   "id": "afced39b-96dd-4232-b66a-6f8fd68bfebc",
   "metadata": {},
   "source": [
    "**Invierte el valor de la expresión booleana.** Si es True, lo convierte en False, y viceversa.\n",
    "\n",
    "![image.png](attachment:e275411c-e5fe-4b7e-a7d0-d83ea1ba0d29.png)"
   ]
  },
  {
   "cell_type": "code",
   "execution_count": 30,
   "id": "4df5fcfd-b2f6-4b5d-8dc6-766b95a41cba",
   "metadata": {},
   "outputs": [
    {
     "data": {
      "text/plain": [
       "True"
      ]
     },
     "execution_count": 30,
     "metadata": {},
     "output_type": "execute_result"
    }
   ],
   "source": [
    "not(False)"
   ]
  },
  {
   "cell_type": "code",
   "execution_count": 31,
   "id": "30cf0dcb-e960-4e51-b472-620d76493412",
   "metadata": {},
   "outputs": [
    {
     "data": {
      "text/plain": [
       "False"
      ]
     },
     "execution_count": 31,
     "metadata": {},
     "output_type": "execute_result"
    }
   ],
   "source": [
    "not(True)"
   ]
  },
  {
   "cell_type": "code",
   "execution_count": 32,
   "id": "f78d7cfa-1402-4bcf-a3d3-7ad719697dbd",
   "metadata": {},
   "outputs": [
    {
     "data": {
      "text/plain": [
       "False"
      ]
     },
     "execution_count": 32,
     "metadata": {},
     "output_type": "execute_result"
    }
   ],
   "source": [
    "not(1)"
   ]
  },
  {
   "cell_type": "code",
   "execution_count": 33,
   "id": "acee0910-13c7-4165-a18d-8df940f94c17",
   "metadata": {},
   "outputs": [
    {
     "data": {
      "text/plain": [
       "False"
      ]
     },
     "execution_count": 33,
     "metadata": {},
     "output_type": "execute_result"
    }
   ],
   "source": [
    "not(2)"
   ]
  },
  {
   "cell_type": "code",
   "execution_count": 34,
   "id": "bb6ea38a-f328-4a6f-8477-d1166399bddb",
   "metadata": {},
   "outputs": [
    {
     "data": {
      "text/plain": [
       "True"
      ]
     },
     "execution_count": 34,
     "metadata": {},
     "output_type": "execute_result"
    }
   ],
   "source": [
    "not(0)"
   ]
  },
  {
   "cell_type": "code",
   "execution_count": 35,
   "id": "e160c0e9-eb3c-4126-ac4e-62351a553bbb",
   "metadata": {},
   "outputs": [
    {
     "data": {
      "text/plain": [
       "False"
      ]
     },
     "execution_count": 35,
     "metadata": {},
     "output_type": "execute_result"
    }
   ],
   "source": [
    "not(\"0\")"
   ]
  },
  {
   "cell_type": "markdown",
   "id": "5cfe5204-6924-4c36-94f6-94f17f322d28",
   "metadata": {},
   "source": [
    "# **Decisiones (if, elif, else)**\n",
    "\n",
    "En Python, las estructuras de control condicionales como **if, elif y else** se utilizan para tomar decisiones en el flujo de un programa. Estas estructuras permiten que el código ejecute diferentes bloques de instrucciones en función de si una o más condiciones son verdaderas o falsas."
   ]
  },
  {
   "cell_type": "markdown",
   "id": "4628fb68-f9d2-4900-9b0b-b69edcda0ea0",
   "metadata": {},
   "source": [
    "La declaración **if** evalúa una condición booleana (que puede ser True o False). Si la condición es True, el bloque de código dentro del if se ejecuta."
   ]
  },
  {
   "cell_type": "code",
   "execution_count": 36,
   "id": "05a81c0b-4cf6-4b5a-9d35-fa32b4428834",
   "metadata": {},
   "outputs": [
    {
     "name": "stdout",
     "output_type": "stream",
     "text": [
      "El número 2 es mayor que 0\n",
      "Esto va afuera, se imprime igual\n"
     ]
    }
   ],
   "source": [
    "# Procesamiento\n",
    "if 2 > 0:\n",
    "    print(\"El número 2 es mayor que 0\")\n",
    "\n",
    "# Salida\n",
    "print(\"Esto va afuera, se imprime igual\")"
   ]
  },
  {
   "cell_type": "markdown",
   "id": "75f15da3-6656-4de4-8df6-a58cc3f73198",
   "metadata": {},
   "source": [
    "Se pueden tener múltiples if dentro de un if. El espacio que está antes del primer print es conocido como **indentación**, que es equivalente a 4 espacios. Esto simboliza que la instrucción que se está ejecutando está dentro de un bloque de if en el cual se cumplió la condición inicial (2 es mayor que 0). Todo lo que no está indentado se ejecuta igualmente ya que está fuera de la condición del if. A continuación, un ejemplo con más detalle:"
   ]
  },
  {
   "cell_type": "code",
   "execution_count": 38,
   "id": "6d395103-cc95-46e2-b49c-d20d7e6241a1",
   "metadata": {},
   "outputs": [
    {
     "name": "stdin",
     "output_type": "stream",
     "text": [
      "Ingrese un numero entero:  159\n"
     ]
    },
    {
     "name": "stdout",
     "output_type": "stream",
     "text": [
      "El numero es mayor que 10\n",
      "El numero es mayor que 100\n",
      "Este print se ejecuta igual\n"
     ]
    }
   ],
   "source": [
    "# Entrada\n",
    "numero = int(input(\"Ingrese un numero entero: \"))\n",
    "\n",
    "# Procesamiento\n",
    "if numero > 10:\n",
    "    print(\"El numero es mayor que 10\")\n",
    "    if numero > 100:\n",
    "        print(\"El numero es mayor que 100\")\n",
    "        if numero > 1000:\n",
    "            print(\"El numero es mayor que 1000\")\n",
    "\n",
    "# Salida\n",
    "print(\"Este print se ejecuta igual\")"
   ]
  },
  {
   "cell_type": "markdown",
   "id": "1cfe16ae-75a6-42e6-b18e-86cecc233c92",
   "metadata": {},
   "source": [
    "**elif** (abreviatura de \"else if\") se utiliza para verificar múltiples condiciones. Después de la primera condición if, se pueden usar uno o más bloques elif para comprobar otras condiciones."
   ]
  },
  {
   "cell_type": "code",
   "execution_count": 39,
   "id": "fc8ebffb-05bf-440f-91bf-9e0af973bfda",
   "metadata": {},
   "outputs": [
    {
     "name": "stdin",
     "output_type": "stream",
     "text": [
      "Ingrese un numero entero:  3\n"
     ]
    },
    {
     "name": "stdout",
     "output_type": "stream",
     "text": [
      "El numero es mayor que 1\n"
     ]
    }
   ],
   "source": [
    "# Entrada\n",
    "numero = int(input(\"Ingrese un numero entero: \"))\n",
    "\n",
    "# Procesamiento y salida\n",
    "if numero == 0:\n",
    "    print(\"El numero es 0\")\n",
    "elif numero == 1:\n",
    "    print(\"El numero es 1\")\n",
    "elif numero > 1:\n",
    "    print(\"El numero es mayor que 1\")"
   ]
  },
  {
   "cell_type": "markdown",
   "id": "28ad5d3c-9e3c-4fea-ac64-b2abb44709d1",
   "metadata": {},
   "source": [
    "Pero, para el ejemplo anterior, ¿qué pasa con los números negativos? Al no haber ninguna condición asociada, no se imprimiria nada. En realidad, en nuestro código faltaría esta condición. Es ahí donde entra **else**, el cual se utiliza para definir un bloque de código que se ejecutará cuando ninguna de las condiciones anteriores sea verdadera. No necesita una condición porque actúa como el caso por defecto."
   ]
  },
  {
   "cell_type": "code",
   "execution_count": 40,
   "id": "58ab60bd-5657-4fda-a6f4-b7cab29ddd8f",
   "metadata": {},
   "outputs": [
    {
     "name": "stdin",
     "output_type": "stream",
     "text": [
      "Ingrese un numero entero:  -3\n"
     ]
    },
    {
     "name": "stdout",
     "output_type": "stream",
     "text": [
      "El numero no es igual a 0, a 1 o mayor que 1\n"
     ]
    }
   ],
   "source": [
    "# Entrada\n",
    "numero = int(input(\"Ingrese un numero entero: \"))\n",
    "\n",
    "# Procesamiento y salida\n",
    "if numero == 0:\n",
    "    print(\"El numero es 0\")\n",
    "elif numero == 1:\n",
    "    print(\"El numero es 1\")\n",
    "elif numero > 1:\n",
    "    print(\"El numero es mayor que 1\")\n",
    "else:\n",
    "    print(\"El numero no es igual a 0, a 1 o mayor que 1\")"
   ]
  },
  {
   "cell_type": "markdown",
   "id": "7026db8f-062e-46b0-ba69-85f1c07515f9",
   "metadata": {},
   "source": [
    "Ahora, **¿qué pasa si tenemos multiples ifs?** Podríamos considerar que cada if, elif y else es un bloque de código, por lo que cada vez que haya un nuevo if se debe verificar la condición, independiente si en el otro if se cumplió la condición de elif o se ejecutó el else. Por ejemplo:"
   ]
  },
  {
   "cell_type": "code",
   "execution_count": 41,
   "id": "8fbd8701-6375-44ef-9ecf-75e1bcee4651",
   "metadata": {},
   "outputs": [
    {
     "name": "stdin",
     "output_type": "stream",
     "text": [
      "Ingrese un numero entero:  3\n"
     ]
    },
    {
     "name": "stdout",
     "output_type": "stream",
     "text": [
      "El numero es mayor que 0\n",
      "El numero no es 2\n"
     ]
    }
   ],
   "source": [
    "# Entrada\n",
    "numero = int(input(\"Ingrese un numero entero: \"))\n",
    "\n",
    "# Procesamiento y salida\n",
    "if numero > 0:\n",
    "    print(\"El numero es mayor que 0\")\n",
    "\n",
    "if numero == \"2\":\n",
    "    print(\"El numero es 2\")\n",
    "else:\n",
    "    print(\"El numero no es 2\")"
   ]
  },
  {
   "cell_type": "markdown",
   "id": "13170e20-e3c3-4816-921f-d7e384b38fe1",
   "metadata": {},
   "source": [
    "Dentro de un bloque de if no solo podemos tener prints, si no también cálculos, otros ifs, etc. Lo más importante es respetar el orden de los bloques if."
   ]
  }
 ],
 "metadata": {
  "kernelspec": {
   "display_name": "Python 3 (ipykernel)",
   "language": "python",
   "name": "python3"
  },
  "language_info": {
   "codemirror_mode": {
    "name": "ipython",
    "version": 3
   },
   "file_extension": ".py",
   "mimetype": "text/x-python",
   "name": "python",
   "nbconvert_exporter": "python",
   "pygments_lexer": "ipython3",
   "version": "3.11.7"
  }
 },
 "nbformat": 4,
 "nbformat_minor": 5
}
