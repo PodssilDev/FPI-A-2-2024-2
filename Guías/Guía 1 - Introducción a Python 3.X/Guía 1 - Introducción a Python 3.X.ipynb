{
 "cells": [
  {
   "cell_type": "markdown",
   "id": "97909329-0672-48cc-8758-fad136b05b80",
   "metadata": {},
   "source": [
    "<center> <h1>Introducción a Python 3.X </h1> </center>\n",
    "\n",
    "**Profesor:** John Serrano - john.serrano@usach.cl\n"
   ]
  },
  {
   "attachments": {},
   "cell_type": "markdown",
   "id": "3ec5f5fc-5a84-4708-ac80-34121b097a3f",
   "metadata": {},
   "source": [
    "# **¿Que es Python 3.X y por qué lo utilizamos en este curso?**\n",
    "\n",
    "Python es un lenguaje de programación de alto nivel, interpretado y de propósito general. Lo anterior quiere decir varias cosas:\n",
    "\n",
    "* Python es fácil de leer y escribir. Es un lenguaje parecido al que nosotros hablamos y a diferencia de otros lenguajes de programación, su sintaxis no es tan estricta.\n",
    "\n",
    "* Python es muy amigable para los principiantes o nuevos en el mundo de la programación: Al ser fácil de leer y no tener una sintaxis estricta, es un lenguaje perfecto para aquellos que nunca han programado\n",
    "\n",
    "* Python es interpretado: Esto quiere decir que no debemos hacer un proceso conocido como \"compilación\", lo cual, en palabras simples, traduce el código que nosotros escribimos en Python a lenguaje que el computador realmente entiende (0s y 1s). En otros lenguajes de programación, este proceso de \"compilación\" debe ser realizado manualmente cada vez que modificamos nuestro código y queremos ejecutarlo. Python hace este proceso sin que nosotros tengamos que hacer algo adicional, por lo que solo debemos correr o ejecutar el código para poder ver inmediatamente los resultados del código.\n",
    "\n"
   ]
  },
  {
   "cell_type": "markdown",
   "id": "88634655-6432-4a34-b422-f82d9a8c5890",
   "metadata": {},
   "source": [
    "### IMPORTANTE CONSIDERAR \n",
    "\n",
    "Dado que este curso es del Módulo Básico de Ingeniería (MBI), no se requiere que los códigos construidos sean eficientes, o con pocas líneas, entre otros aspectos. Se entiende que muchos pueden estar programando por primera vez, por lo que, por ejemplo, para una PEP si una persona resuelve el o los problemas en 100 líneas de código, es válido. Pero si una persona lo hace en 1000 líneas de código, también es válido. En la pauta se evalúan algunos aspectos respecto al código, como la capacidad de comentar el código, si este resuelve el problema planteado, entre otros aspectos (Esto lo iremos conversando a medida que se vaya acercando la PEP).\n",
    "\n"
   ]
  },
  {
   "cell_type": "markdown",
   "id": "22aefb42-1d20-4fba-a677-35d9cbb84afc",
   "metadata": {},
   "source": [
    "# **Mi primer código de Python**\n",
    "\n",
    "Cuentan las leyendas antiguas que el primer código que un programador escribió en Python fue el famoso \"Hola Mundo!\". En realidad, esto no se sabe si es así, pero se ha tomado como una costumbre que el primer código muestre por pantalla \"Hola Mundo!\". Para ello, debemos utilizar la función **print()**. Adelantando un poco el contenido, si recuerdan funciones de cálculo y/o álgebra 1, una función en Python es similar: Puede recibir algo como una entrada, hace algo y luego devuelve un resultado. En la segunda unidad del curso ya hablaremos de funciones propiamente tal, pero por ahora, el primer comando o función que debemos tener en consideración es **print()**.\n",
    "\n",
    "**print()** recibe como entrada una cadena de texto, conocido en Python como un **String**. Un String en Python puede ser escrito con comillas dobles o comillas simples (CUIDADO: NO PUEDE SER UNA COMBINACIÓN DE AMBAS!). Por lo tanto, para escribir el famoso código de Hola Mundo! en Python, debemos utilizar el comando **print()** con el string \"Hola Mundo!\" dentro de los paréntesis de **print()**."
   ]
  },
  {
   "cell_type": "code",
   "execution_count": 1,
   "id": "41f9dd18-7994-401e-86de-1dfd87654fea",
   "metadata": {},
   "outputs": [
    {
     "name": "stdout",
     "output_type": "stream",
     "text": [
      "Hola Mundo!\n"
     ]
    }
   ],
   "source": [
    "# Mostramos por consola el mensaje \"Hola Mundo!\"\n",
    "print(\"Hola Mundo!\")"
   ]
  },
  {
   "cell_type": "markdown",
   "id": "002e59ea-0737-4c46-b654-585895141330",
   "metadata": {},
   "source": [
    "Como se puede ver del código anterior, Python simplemente nos retorna el mensaje Hola Mundo!. Lo que hace la instrucción <b>print()</b> es imprimir (o \"printear\") un mensaje mediante la consola de Python. En otras palabras, muestra un mensaje al usuario, de acuerdo al string que se coloca dentro de los paréntesis de print."
   ]
  },
  {
   "cell_type": "markdown",
   "id": "0a2a4d1b-360c-4264-875b-4700d5cf62c0",
   "metadata": {},
   "source": [
    "# **Tipos de Datos en Python**\n",
    "\n",
    "Hablemos de tipos de datos. Ya hemos mencionado uno, el **String**, que corresponde a una cadena de texto o un texto simple. Los otros tipos de datos a considerar para el curso son:\n",
    "\n",
    "* **Int (Integer o Entero):** Corresponde a un número entero, tal cual como lo conocemos en Cálculo o Álgebra. Por lo tanto, los Ints son los números negativos, los números positivos y el 0.\n",
    "\n",
    "* **Float (Número de Punto Flotante o Decimales):** Corresponden a los números decimales, con la gran diferencia de que en Python los decimales se escriben con un punto para separar la parte entera de la parte decimal. He ahí porque se les conoce como \"Punto Flotante\".\n",
    "\n",
    "* **Bool (Booleanos o Valores Lógicos):** Los booleanos puede ser solamente dos valores: **True** (Verdadero) o **False** (Falso). Se debe tener en consideración que la primera letra se escribe en mayúscula y el resto en minúsculas. Variaciones como TRUE, FALSE, true, false, TrUE, faLSE, etc no serán reconocidas por Python.\n",
    "\n",
    "* **List (Lista):** Corresponde a un conjunto de elementos. Se escriben con un paréntesis cuadrados al inicio y un paréntesis cuadrados al final ([]) y una lista puede contener a otros tipos de datos. Ya veremos listas al final de la primera unidad.\n",
    "\n",
    "* **Complex (Números Complejos):** Representan a los números complejos, que tienen una parte real y una parte imaginaria aunque tienen unas pequeñas variaciones de cómo funcionan realmente los números complejos. Curiosamente, en Python se utiliza la letra j en vez de la letra i para la parte imaginaria. Más curioso aún, se suelen mencionar en la primera parte del curso y luego nunca más vuelven a aparecer (Pero por si acaso igual lo incluyo en la guía).\n",
    "\n",
    "Si tenemos dudas de si un elemento es de un tipo de dato específico, podemos utilizar la función **type()**, cuya entrada es cualquier elemento al que le queramos reconocer su tipo de dato. **type()** nos indicará si se trata de un int, float, bool, list o complex. A continuación, se presentan algunos ejemplos.\n",
    "\n",
    "### Ejemplos de tipo de dato: Int"
   ]
  },
  {
   "cell_type": "code",
   "execution_count": 2,
   "id": "3027b8bc-0565-4cd5-8756-1077b10abfa1",
   "metadata": {},
   "outputs": [
    {
     "data": {
      "text/plain": [
       "int"
      ]
     },
     "execution_count": 2,
     "metadata": {},
     "output_type": "execute_result"
    }
   ],
   "source": [
    "# Se comprueba el tipo de dato de 159\n",
    "type(159)"
   ]
  },
  {
   "cell_type": "code",
   "execution_count": 3,
   "id": "478a057f-ed18-46f8-b227-3c5c20891221",
   "metadata": {},
   "outputs": [
    {
     "data": {
      "text/plain": [
       "int"
      ]
     },
     "execution_count": 3,
     "metadata": {},
     "output_type": "execute_result"
    }
   ],
   "source": [
    "# Se comprueba el tipo de dato de -1189\n",
    "type(-1189)"
   ]
  },
  {
   "cell_type": "code",
   "execution_count": 4,
   "id": "afb78eaa-3601-4a87-b8c5-538628c3604f",
   "metadata": {},
   "outputs": [
    {
     "data": {
      "text/plain": [
       "int"
      ]
     },
     "execution_count": 4,
     "metadata": {},
     "output_type": "execute_result"
    }
   ],
   "source": [
    "# Se comprueba el tipo de dato de 0\n",
    "type(0)"
   ]
  },
  {
   "cell_type": "code",
   "execution_count": 5,
   "id": "4a648751-0868-4263-bc2f-943a493c93f2",
   "metadata": {},
   "outputs": [
    {
     "data": {
      "text/plain": [
       "int"
      ]
     },
     "execution_count": 5,
     "metadata": {},
     "output_type": "execute_result"
    }
   ],
   "source": [
    "# Se comprueba el tipo de dato de 2147483648\n",
    "type (2147483648)"
   ]
  },
  {
   "cell_type": "code",
   "execution_count": 6,
   "id": "d8cddc46-24bb-4b6b-bd73-7f722ec0b132",
   "metadata": {},
   "outputs": [
    {
     "data": {
      "text/plain": [
       "int"
      ]
     },
     "execution_count": 6,
     "metadata": {},
     "output_type": "execute_result"
    }
   ],
   "source": [
    "# Se comprueba el tipo de dato de -2147483648 \n",
    "type (-2147483648)"
   ]
  },
  {
   "cell_type": "markdown",
   "id": "403585a1-92da-4336-864b-1651396777db",
   "metadata": {},
   "source": [
    "### Ejemplos de tipo de dato: Float"
   ]
  },
  {
   "cell_type": "code",
   "execution_count": 7,
   "id": "7e82b3f8-ebb5-4a94-bc93-9b44aa7e09d5",
   "metadata": {},
   "outputs": [
    {
     "data": {
      "text/plain": [
       "float"
      ]
     },
     "execution_count": 7,
     "metadata": {},
     "output_type": "execute_result"
    }
   ],
   "source": [
    "# Se comprueba el tipo de dato de 5.0\n",
    "type(5.0)"
   ]
  },
  {
   "cell_type": "code",
   "execution_count": 8,
   "id": "7c0b1438-471c-4b1f-aa82-abe3237ed532",
   "metadata": {},
   "outputs": [
    {
     "data": {
      "text/plain": [
       "float"
      ]
     },
     "execution_count": 8,
     "metadata": {},
     "output_type": "execute_result"
    }
   ],
   "source": [
    "# Se comprueba el tipo de dato de -99.23\n",
    "type (-99.23)"
   ]
  },
  {
   "cell_type": "code",
   "execution_count": 9,
   "id": "e36c0f18-b026-4d2c-b024-32640010df6e",
   "metadata": {},
   "outputs": [
    {
     "data": {
      "text/plain": [
       "float"
      ]
     },
     "execution_count": 9,
     "metadata": {},
     "output_type": "execute_result"
    }
   ],
   "source": [
    "# Se comprueba el tipo de dato de 0.0\n",
    "type(0.0)"
   ]
  },
  {
   "cell_type": "code",
   "execution_count": 10,
   "id": "4946238b-2dcc-49bc-83a3-052cfb904cf9",
   "metadata": {},
   "outputs": [
    {
     "data": {
      "text/plain": [
       "float"
      ]
     },
     "execution_count": 10,
     "metadata": {},
     "output_type": "execute_result"
    }
   ],
   "source": [
    "# Se comprueba el tipo de dato de 3.14159265359\n",
    "type (3.14159265359)"
   ]
  },
  {
   "cell_type": "markdown",
   "id": "01218924-08e2-484e-9241-cbaafdd9bb62",
   "metadata": {},
   "source": [
    "### Ejemplos de tipo de dato: String"
   ]
  },
  {
   "cell_type": "code",
   "execution_count": 11,
   "id": "0a21a199-4ad5-48a3-8716-4042283e5ba2",
   "metadata": {},
   "outputs": [
    {
     "data": {
      "text/plain": [
       "str"
      ]
     },
     "execution_count": 11,
     "metadata": {},
     "output_type": "execute_result"
    }
   ],
   "source": [
    "# Se comprueba el tipo de dato de \"Hello World\"\n",
    "type (\"Hello World!\")"
   ]
  },
  {
   "cell_type": "code",
   "execution_count": 12,
   "id": "82cf0388-478a-4a2a-95e0-a6354b983279",
   "metadata": {},
   "outputs": [
    {
     "data": {
      "text/plain": [
       "str"
      ]
     },
     "execution_count": 12,
     "metadata": {},
     "output_type": "execute_result"
    }
   ],
   "source": [
    "# Se comprueba el tipo de dato de \"Hola Mundo!\"\n",
    "type ('Hola Mundo!')"
   ]
  },
  {
   "cell_type": "code",
   "execution_count": 13,
   "id": "054008cb-46a6-469b-873d-a5170e5fb33c",
   "metadata": {},
   "outputs": [
    {
     "ename": "SyntaxError",
     "evalue": "unterminated string literal (detected at line 2) (4202501579.py, line 2)",
     "output_type": "error",
     "traceback": [
      "\u001b[1;36m  Cell \u001b[1;32mIn[13], line 2\u001b[1;36m\u001b[0m\n\u001b[1;33m    type ('Hola!\")\u001b[0m\n\u001b[1;37m          ^\u001b[0m\n\u001b[1;31mSyntaxError\u001b[0m\u001b[1;31m:\u001b[0m unterminated string literal (detected at line 2)\n"
     ]
    }
   ],
   "source": [
    "# Se comprueba el tipo de dato de \"Hola!\"\n",
    "type ('Hola!\")"
   ]
  },
  {
   "cell_type": "markdown",
   "id": "dc8d9974-52d1-4436-b163-1b9efa603012",
   "metadata": {},
   "source": [
    "Nótese que Python nos indicó un error ya que reconoció que hay un string que no tiene las comillas al final, pero en realidad si las tiene. Esto es porque Python espera que, si al inicio se usan comillas simples, al final también deberían utilizarse comillas simples y vice versa."
   ]
  },
  {
   "cell_type": "code",
   "execution_count": 14,
   "id": "d294213f-93a6-4057-b77c-bfd679cd5d43",
   "metadata": {},
   "outputs": [
    {
     "data": {
      "text/plain": [
       "str"
      ]
     },
     "execution_count": 14,
     "metadata": {},
     "output_type": "execute_result"
    }
   ],
   "source": [
    "# Se comprueba el tipo de dato de la oración\n",
    "type (\"Los estudiantes de FPI de la sección A-2 deberian estar leyendo esta guía\")"
   ]
  },
  {
   "cell_type": "code",
   "execution_count": 15,
   "id": "49dcf7b0-e318-460b-8049-9b5f60c67173",
   "metadata": {},
   "outputs": [
    {
     "data": {
      "text/plain": [
       "str"
      ]
     },
     "execution_count": 15,
     "metadata": {},
     "output_type": "execute_result"
    }
   ],
   "source": [
    "# Se comprueba el tipo de dato de \"True\"\n",
    "type (\"True\")"
   ]
  },
  {
   "cell_type": "code",
   "execution_count": 16,
   "id": "85b6c47b-6d8d-415a-a6be-67558ba6b352",
   "metadata": {},
   "outputs": [
    {
     "data": {
      "text/plain": [
       "str"
      ]
     },
     "execution_count": 16,
     "metadata": {},
     "output_type": "execute_result"
    }
   ],
   "source": [
    "# Se comprueba el tipo de dato de \"1232323\"\n",
    "type (\"1232323\")"
   ]
  },
  {
   "cell_type": "markdown",
   "id": "69213430-f7b8-41fa-aec8-f96b4ece2970",
   "metadata": {},
   "source": [
    "### Ejemplos de tipo de dato: Bool"
   ]
  },
  {
   "cell_type": "code",
   "execution_count": 17,
   "id": "b65719cc-e490-4106-93dc-14050fa7ceca",
   "metadata": {},
   "outputs": [
    {
     "data": {
      "text/plain": [
       "bool"
      ]
     },
     "execution_count": 17,
     "metadata": {},
     "output_type": "execute_result"
    }
   ],
   "source": [
    "# Se comprueba el tipo de dato de True\n",
    "type(True)"
   ]
  },
  {
   "cell_type": "code",
   "execution_count": 18,
   "id": "f17db7a3-487d-4cc7-99e9-5b12b399cb29",
   "metadata": {},
   "outputs": [
    {
     "data": {
      "text/plain": [
       "bool"
      ]
     },
     "execution_count": 18,
     "metadata": {},
     "output_type": "execute_result"
    }
   ],
   "source": [
    "# Se comprueba el tipo de dato de False\n",
    "type(False)"
   ]
  },
  {
   "cell_type": "code",
   "execution_count": 19,
   "id": "d68f403d-f3fc-4d07-b970-f27c3d11f8b5",
   "metadata": {},
   "outputs": [
    {
     "ename": "NameError",
     "evalue": "name 'false' is not defined",
     "output_type": "error",
     "traceback": [
      "\u001b[1;31m---------------------------------------------------------------------------\u001b[0m",
      "\u001b[1;31mNameError\u001b[0m                                 Traceback (most recent call last)",
      "Cell \u001b[1;32mIn[19], line 2\u001b[0m\n\u001b[0;32m      1\u001b[0m \u001b[38;5;66;03m# Se comprueba el tipo de dato de false\u001b[39;00m\n\u001b[1;32m----> 2\u001b[0m \u001b[38;5;28mtype\u001b[39m (false)\n",
      "\u001b[1;31mNameError\u001b[0m: name 'false' is not defined"
     ]
    }
   ],
   "source": [
    "# Se comprueba el tipo de dato de false\n",
    "type (false)"
   ]
  },
  {
   "cell_type": "code",
   "execution_count": 20,
   "id": "4c1083e4-9eb1-42b4-8a0e-85c8c16e2759",
   "metadata": {},
   "outputs": [
    {
     "ename": "NameError",
     "evalue": "name 'true' is not defined",
     "output_type": "error",
     "traceback": [
      "\u001b[1;31m---------------------------------------------------------------------------\u001b[0m",
      "\u001b[1;31mNameError\u001b[0m                                 Traceback (most recent call last)",
      "Cell \u001b[1;32mIn[20], line 2\u001b[0m\n\u001b[0;32m      1\u001b[0m \u001b[38;5;66;03m# Se comprueba el tipo de dato de true\u001b[39;00m\n\u001b[1;32m----> 2\u001b[0m \u001b[38;5;28mtype\u001b[39m (true)\n",
      "\u001b[1;31mNameError\u001b[0m: name 'true' is not defined"
     ]
    }
   ],
   "source": [
    "# Se comprueba el tipo de dato de true\n",
    "type (true)"
   ]
  },
  {
   "cell_type": "markdown",
   "id": "2b34dc01-cc7b-4173-87ef-85fa8da1883e",
   "metadata": {},
   "source": [
    "### Ejemplos de tipo de dato: Listas"
   ]
  },
  {
   "cell_type": "code",
   "execution_count": 21,
   "id": "4f25440a-b618-4178-ae0e-9b81f42c4e55",
   "metadata": {},
   "outputs": [
    {
     "data": {
      "text/plain": [
       "list"
      ]
     },
     "execution_count": 21,
     "metadata": {},
     "output_type": "execute_result"
    }
   ],
   "source": [
    "# Se comprueba el tipo de dato de [1, 2, 3]\n",
    "type ([1, 2, 3])"
   ]
  },
  {
   "cell_type": "code",
   "execution_count": 22,
   "id": "09fead39-8a02-42ad-90bd-d7c5ec59cc24",
   "metadata": {},
   "outputs": [
    {
     "data": {
      "text/plain": [
       "list"
      ]
     },
     "execution_count": 22,
     "metadata": {},
     "output_type": "execute_result"
    }
   ],
   "source": [
    "# Se comprueba el tipo de dato de [\"hola\", \"mundo\", 2]\n",
    "type ([\"hola\", \"mundo\", 2])"
   ]
  },
  {
   "cell_type": "code",
   "execution_count": 23,
   "id": "783a0685-e808-4158-b5ef-2c2746898825",
   "metadata": {},
   "outputs": [
    {
     "data": {
      "text/plain": [
       "list"
      ]
     },
     "execution_count": 23,
     "metadata": {},
     "output_type": "execute_result"
    }
   ],
   "source": [
    "# Se comprueba el tipo de dato de [\"hello\", [3, 5, 1], 19, \"a todos\"]\n",
    "type ([\"hello\", [3,5,1], 19, \"a todos\"])"
   ]
  },
  {
   "cell_type": "markdown",
   "id": "98eb6ecd-8825-4a39-9342-d505c9ec3f2a",
   "metadata": {},
   "source": [
    "### Ejemplo de tipo de dato: Complex"
   ]
  },
  {
   "cell_type": "code",
   "execution_count": 24,
   "id": "377c5f73-8fc9-49c9-966d-cff0eca9bb0d",
   "metadata": {},
   "outputs": [
    {
     "data": {
      "text/plain": [
       "complex"
      ]
     },
     "execution_count": 24,
     "metadata": {},
     "output_type": "execute_result"
    }
   ],
   "source": [
    "# Se comprueba el tipo de dato de 2+4j\n",
    "type (2+4j)"
   ]
  },
  {
   "cell_type": "code",
   "execution_count": 25,
   "id": "72a5ef9d-4be0-4366-9e9b-a1b9fa3b3a3f",
   "metadata": {},
   "outputs": [
    {
     "data": {
      "text/plain": [
       "complex"
      ]
     },
     "execution_count": 25,
     "metadata": {},
     "output_type": "execute_result"
    }
   ],
   "source": [
    "# Se comprueba el tipo de dato de -9-4j\n",
    "type(-9-4j)"
   ]
  },
  {
   "cell_type": "code",
   "execution_count": 26,
   "id": "79a4586a-2c3e-4d56-bf91-d810bfadd589",
   "metadata": {},
   "outputs": [
    {
     "data": {
      "text/plain": [
       "complex"
      ]
     },
     "execution_count": 26,
     "metadata": {},
     "output_type": "execute_result"
    }
   ],
   "source": [
    "# Se comprueba el tipo de dato de 10j\n",
    "type(10j)"
   ]
  },
  {
   "cell_type": "code",
   "execution_count": 27,
   "id": "b37df081-9c27-464e-9349-2aaef576afc7",
   "metadata": {},
   "outputs": [
    {
     "data": {
      "text/plain": [
       "complex"
      ]
     },
     "execution_count": 27,
     "metadata": {},
     "output_type": "execute_result"
    }
   ],
   "source": [
    "# Se comprueba el tipo de dato de 0 + 0j\n",
    "type (0 + 0j)"
   ]
  },
  {
   "cell_type": "markdown",
   "id": "2ac27637-8836-4605-ae72-04d05811484b",
   "metadata": {},
   "source": [
    "Debemos entonces tener en consideración que cada tipo de dato tiene una forma específica en la que se escribe y también a veces existen distintas representaciones de un número en distintos tipos de datos (Por ejemplo, para el 0, existe el 0 en int, el 0.0 en float y el 0+0j en complex)."
   ]
  },
  {
   "cell_type": "markdown",
   "id": "6c75dd70-9c9a-489b-88a5-b79c6afb4600",
   "metadata": {},
   "source": [
    "# **Transformaciones de tipos de datos**"
   ]
  },
  {
   "cell_type": "markdown",
   "id": "1e4394e4-307d-4286-8dbd-3201a30084b8",
   "metadata": {},
   "source": [
    "Utilizando ciertas funciones, podemos realizar transformaciones de un tipo de dato a otro. Hay que tener un poco de cuidado, ya que ciertas transformaciones no son posibles y a veces el resultado de una transformación puede darnos algo totalmente distinto a lo esperado."
   ]
  },
  {
   "cell_type": "markdown",
   "id": "2cc3bef3-ce5e-4d87-bd1e-9deca7de0003",
   "metadata": {},
   "source": [
    "* Para transformar un elemento a un número entero, podemos utilizar la función **int()**. int() solo acepta como entrada flotantes, booleanos y strings (en ciertos casos)."
   ]
  },
  {
   "cell_type": "code",
   "execution_count": 28,
   "id": "5577882f-fb12-4943-ae10-6c0919e6ef12",
   "metadata": {},
   "outputs": [
    {
     "data": {
      "text/plain": [
       "6"
      ]
     },
     "execution_count": 28,
     "metadata": {},
     "output_type": "execute_result"
    }
   ],
   "source": [
    "# Se transforma el float 6.0 al int 6\n",
    "int(6.0)"
   ]
  },
  {
   "cell_type": "code",
   "execution_count": 29,
   "id": "631cfdb1-9183-4670-a8c1-e7892ee81ab7",
   "metadata": {},
   "outputs": [
    {
     "data": {
      "text/plain": [
       "6"
      ]
     },
     "execution_count": 29,
     "metadata": {},
     "output_type": "execute_result"
    }
   ],
   "source": [
    "# Se transforma el string \"6\" al int 6\n",
    "int(\"6\")"
   ]
  },
  {
   "cell_type": "code",
   "execution_count": 30,
   "id": "0e54baf9-13a9-4009-80d5-3df3b9c357ec",
   "metadata": {},
   "outputs": [
    {
     "data": {
      "text/plain": [
       "6"
      ]
     },
     "execution_count": 30,
     "metadata": {},
     "output_type": "execute_result"
    }
   ],
   "source": [
    "# Se transforma el float 6.1 al int 6\n",
    "int (6.1)"
   ]
  },
  {
   "cell_type": "code",
   "execution_count": 31,
   "id": "2c0489af-aaf9-4c93-8707-893b5e0f919b",
   "metadata": {},
   "outputs": [
    {
     "data": {
      "text/plain": [
       "99"
      ]
     },
     "execution_count": 31,
     "metadata": {},
     "output_type": "execute_result"
    }
   ],
   "source": [
    "# Se transforma el float 99.343894382329 a int 99\n",
    "int (99.343894382329)"
   ]
  },
  {
   "cell_type": "code",
   "execution_count": 32,
   "id": "50c56a02-dc47-43cf-b2dd-89f51460428d",
   "metadata": {},
   "outputs": [
    {
     "data": {
      "text/plain": [
       "1"
      ]
     },
     "execution_count": 32,
     "metadata": {},
     "output_type": "execute_result"
    }
   ],
   "source": [
    "# Se transforma el bool True a int 1\n",
    "int(True)"
   ]
  },
  {
   "cell_type": "code",
   "execution_count": 33,
   "id": "79190351-b0c5-410b-90a8-f56d407cf473",
   "metadata": {},
   "outputs": [
    {
     "data": {
      "text/plain": [
       "0"
      ]
     },
     "execution_count": 33,
     "metadata": {},
     "output_type": "execute_result"
    }
   ],
   "source": [
    "# Se transforma el bool False al int 0\n",
    "int(False)"
   ]
  },
  {
   "cell_type": "code",
   "execution_count": 34,
   "id": "6954c60e-eb95-4bd4-8409-19c0dec2d46a",
   "metadata": {},
   "outputs": [
    {
     "ename": "ValueError",
     "evalue": "invalid literal for int() with base 10: 'h'",
     "output_type": "error",
     "traceback": [
      "\u001b[1;31m---------------------------------------------------------------------------\u001b[0m",
      "\u001b[1;31mValueError\u001b[0m                                Traceback (most recent call last)",
      "Cell \u001b[1;32mIn[34], line 2\u001b[0m\n\u001b[0;32m      1\u001b[0m \u001b[38;5;66;03m# Se intenta transformar el string \"h\" a un int\u001b[39;00m\n\u001b[1;32m----> 2\u001b[0m \u001b[38;5;28mint\u001b[39m (\u001b[38;5;124m\"\u001b[39m\u001b[38;5;124mh\u001b[39m\u001b[38;5;124m\"\u001b[39m)\n",
      "\u001b[1;31mValueError\u001b[0m: invalid literal for int() with base 10: 'h'"
     ]
    }
   ],
   "source": [
    "# Se intenta transformar el string \"h\" a un int\n",
    "int (\"h\")"
   ]
  },
  {
   "cell_type": "markdown",
   "id": "9c8e4a0a-103a-427c-9c91-842580399182",
   "metadata": {},
   "source": [
    "Solo se pueden transformar strings que sean números a enteros. Intentar transformar algún texto o letra resultará en un error.\n",
    "\n",
    "* Para transformar a un número flotante podemos utilizar la función **float()**. float() solo acepta ints, booleanos y strings."
   ]
  },
  {
   "cell_type": "code",
   "execution_count": 35,
   "id": "9600363d-baf4-4d20-9f96-efcae128cad2",
   "metadata": {},
   "outputs": [
    {
     "data": {
      "text/plain": [
       "3.0"
      ]
     },
     "execution_count": 35,
     "metadata": {},
     "output_type": "execute_result"
    }
   ],
   "source": [
    "# Se transforma el int 3 al float 3.0\n",
    "float(3)"
   ]
  },
  {
   "cell_type": "code",
   "execution_count": 36,
   "id": "40d5b524-2e4c-4738-8803-d105cef0a668",
   "metadata": {},
   "outputs": [
    {
     "data": {
      "text/plain": [
       "0.0"
      ]
     },
     "execution_count": 36,
     "metadata": {},
     "output_type": "execute_result"
    }
   ],
   "source": [
    "# Se transforma el int 0 al float 0.0\n",
    "float(0)"
   ]
  },
  {
   "cell_type": "code",
   "execution_count": 37,
   "id": "1c55b04d-4c09-4087-b747-388f847585f3",
   "metadata": {},
   "outputs": [
    {
     "data": {
      "text/plain": [
       "1.0"
      ]
     },
     "execution_count": 37,
     "metadata": {},
     "output_type": "execute_result"
    }
   ],
   "source": [
    "# Se transforma el bool True al float 1.0\n",
    "float(True)"
   ]
  },
  {
   "cell_type": "code",
   "execution_count": 38,
   "id": "87473cbc-5b7a-4c18-9acc-25ff994d9b16",
   "metadata": {},
   "outputs": [
    {
     "data": {
      "text/plain": [
       "0.0"
      ]
     },
     "execution_count": 38,
     "metadata": {},
     "output_type": "execute_result"
    }
   ],
   "source": [
    "# Se transforma el bool False al float 0.0\n",
    "float (False)"
   ]
  },
  {
   "cell_type": "code",
   "execution_count": 39,
   "id": "76154bcc-d4e4-478d-8bf3-33db3dc781a2",
   "metadata": {},
   "outputs": [
    {
     "data": {
      "text/plain": [
       "22.32323"
      ]
     },
     "execution_count": 39,
     "metadata": {},
     "output_type": "execute_result"
    }
   ],
   "source": [
    "# Se transforma el string \"22.32323\" al float 22.32323\n",
    "float (\"22.32323\")"
   ]
  },
  {
   "cell_type": "code",
   "execution_count": 40,
   "id": "5b5eb2e2-7c01-4766-a2f9-e19b2256b321",
   "metadata": {},
   "outputs": [
    {
     "data": {
      "text/plain": [
       "22.0"
      ]
     },
     "execution_count": 40,
     "metadata": {},
     "output_type": "execute_result"
    }
   ],
   "source": [
    "# Se transforma el string \"22\" al float 22.0\n",
    "float (\"22\")"
   ]
  },
  {
   "cell_type": "markdown",
   "id": "83ec8f75-5024-423c-9cb9-ff6b057d6cea",
   "metadata": {},
   "source": [
    "* Para transformar a un booleano (valor lógico) podemos utilizar la función <b>bool()</b>. bool() solo acepta ints, floats y strings."
   ]
  },
  {
   "cell_type": "code",
   "execution_count": 41,
   "id": "60c1176c-3a9a-4525-8ec8-20c0aaf4a80f",
   "metadata": {},
   "outputs": [
    {
     "data": {
      "text/plain": [
       "True"
      ]
     },
     "execution_count": 41,
     "metadata": {},
     "output_type": "execute_result"
    }
   ],
   "source": [
    "# Se transforma el int 2 al bool True\n",
    "bool(2)"
   ]
  },
  {
   "cell_type": "code",
   "execution_count": 42,
   "id": "6096dfb0-6bff-4c5a-a989-07dd0f065847",
   "metadata": {},
   "outputs": [
    {
     "data": {
      "text/plain": [
       "False"
      ]
     },
     "execution_count": 42,
     "metadata": {},
     "output_type": "execute_result"
    }
   ],
   "source": [
    "# Se transforma el int 0 al bool False\n",
    "bool(0)"
   ]
  },
  {
   "cell_type": "code",
   "execution_count": 43,
   "id": "b72dd13d-6025-4731-9a5b-33477deac6d5",
   "metadata": {},
   "outputs": [
    {
     "data": {
      "text/plain": [
       "True"
      ]
     },
     "execution_count": 43,
     "metadata": {},
     "output_type": "execute_result"
    }
   ],
   "source": [
    "# Se transforma el float 1.0 al bool True\n",
    "bool(1.0)"
   ]
  },
  {
   "cell_type": "code",
   "execution_count": 44,
   "id": "9b21e137-ab18-4f6f-88bf-f61b7f3beb9f",
   "metadata": {},
   "outputs": [
    {
     "data": {
      "text/plain": [
       "False"
      ]
     },
     "execution_count": 44,
     "metadata": {},
     "output_type": "execute_result"
    }
   ],
   "source": [
    "# Se transforma el float 0.0 al bool False\n",
    "bool(0.0)"
   ]
  },
  {
   "cell_type": "code",
   "execution_count": 45,
   "id": "0607a5f4-3b7b-4ef8-87ba-5ba387bc5e5e",
   "metadata": {},
   "outputs": [
    {
     "data": {
      "text/plain": [
       "True"
      ]
     },
     "execution_count": 45,
     "metadata": {},
     "output_type": "execute_result"
    }
   ],
   "source": [
    "# Se transforma el string \"10.0\" al bool True\n",
    "bool(\"10.0\")"
   ]
  },
  {
   "cell_type": "code",
   "execution_count": 46,
   "id": "3ed7f8b8-dba4-4eb1-a65e-65e6b15cc7f5",
   "metadata": {},
   "outputs": [
    {
     "data": {
      "text/plain": [
       "True"
      ]
     },
     "execution_count": 46,
     "metadata": {},
     "output_type": "execute_result"
    }
   ],
   "source": [
    "# Se transforma el string \"0\" al bool True\n",
    "bool(\"0\")"
   ]
  },
  {
   "cell_type": "markdown",
   "id": "84df561a-8ea1-40fd-9a77-773b70b5cce1",
   "metadata": {},
   "source": [
    "* Para transformar a una lista, podemos usar la función **list().** list() solo acepta strings. "
   ]
  },
  {
   "cell_type": "code",
   "execution_count": 47,
   "id": "023bb349-406d-465c-a9a3-05bd25145e77",
   "metadata": {},
   "outputs": [
    {
     "data": {
      "text/plain": [
       "['e', 'l', 'e', 'm', 'e', 'n', 't', 'o', 's']"
      ]
     },
     "execution_count": 47,
     "metadata": {},
     "output_type": "execute_result"
    }
   ],
   "source": [
    "# Se transforma el string \"elementos\" a una lista\n",
    "list(\"elementos\")"
   ]
  },
  {
   "cell_type": "code",
   "execution_count": 48,
   "id": "2335dab0-812a-4797-a51f-3616f12be097",
   "metadata": {},
   "outputs": [
    {
     "data": {
      "text/plain": [
       "['2', '3', '2', '3', '1', '2', '2', '3', '8']"
      ]
     },
     "execution_count": 48,
     "metadata": {},
     "output_type": "execute_result"
    }
   ],
   "source": [
    "# Se transforma el string \"232312238\" a lista\n",
    "list(\"232312238\")"
   ]
  },
  {
   "cell_type": "markdown",
   "id": "2a1414ba-1cf7-4898-81d9-1de7f85e2cb9",
   "metadata": {},
   "source": [
    "* Para transformar a un número complejo, podemos usar la función **complex()**. A diferencia de las otras funciones, complex() acepta dos números como entrada, el primero siendo la parte real y el segundo la parte imaginaria. Los números pueden estar en formato int o float."
   ]
  },
  {
   "cell_type": "code",
   "execution_count": 49,
   "id": "184559b2-18a4-4ac7-b818-a53159e66f95",
   "metadata": {},
   "outputs": [
    {
     "data": {
      "text/plain": [
       "(2.4+3.4j)"
      ]
     },
     "execution_count": 49,
     "metadata": {},
     "output_type": "execute_result"
    }
   ],
   "source": [
    "# Se utilizan los flotantes 2.4 y 3.4 para formar el complejo 2.4+3.4j\n",
    "complex(2.4, 3.4)"
   ]
  },
  {
   "cell_type": "code",
   "execution_count": 50,
   "id": "1cfb29e9-9f7a-424c-868b-784c6c548de0",
   "metadata": {},
   "outputs": [
    {
     "data": {
      "text/plain": [
       "(2+3j)"
      ]
     },
     "execution_count": 50,
     "metadata": {},
     "output_type": "execute_result"
    }
   ],
   "source": [
    "# Se utilizan los ints 2 y 3 para formar el complejo 2+3j\n",
    "complex(2,3)"
   ]
  },
  {
   "cell_type": "code",
   "execution_count": 51,
   "id": "18d90499-12ca-46d7-955d-6d34025c0985",
   "metadata": {},
   "outputs": [
    {
     "data": {
      "text/plain": [
       "2j"
      ]
     },
     "execution_count": 51,
     "metadata": {},
     "output_type": "execute_result"
    }
   ],
   "source": [
    "# Se utilizan los ints 0 y 2 para formar el complejo 2j\n",
    "complex(0,2)"
   ]
  },
  {
   "cell_type": "code",
   "execution_count": 52,
   "id": "84cf4fa9-6001-447a-9809-1e7255a2e0ef",
   "metadata": {},
   "outputs": [
    {
     "data": {
      "text/plain": [
       "(10+0j)"
      ]
     },
     "execution_count": 52,
     "metadata": {},
     "output_type": "execute_result"
    }
   ],
   "source": [
    "# Se utiliza los ints 10 y 0 para formar el complejo 10+0j\n",
    "complex(10,0)"
   ]
  },
  {
   "cell_type": "markdown",
   "id": "383cbf72-01bc-49c0-844d-446373b8e89e",
   "metadata": {},
   "source": [
    "# **Operadores aritméticos**"
   ]
  },
  {
   "cell_type": "markdown",
   "id": "a06de5f7-4ac3-4a15-82c1-d4a723e16738",
   "metadata": {},
   "source": [
    "En Python podemos realizar operaciones matemáticas similar a como lo hacemos hoy en día en nuestro lenguaje, aunque existen algunas diferencias a tener en consideración. "
   ]
  },
  {
   "cell_type": "markdown",
   "id": "2578ab2f-ddfb-401b-8a7f-93d04f62a48d",
   "metadata": {},
   "source": [
    "* Para realizar una suma en Python, usamos el operador **+**"
   ]
  },
  {
   "cell_type": "code",
   "execution_count": 53,
   "id": "895d44ec-9e44-4780-a1cd-3d4ca5350732",
   "metadata": {},
   "outputs": [
    {
     "data": {
      "text/plain": [
       "3"
      ]
     },
     "execution_count": 53,
     "metadata": {},
     "output_type": "execute_result"
    }
   ],
   "source": [
    "# Suma de dos ints\n",
    "2 + 1"
   ]
  },
  {
   "cell_type": "code",
   "execution_count": 54,
   "id": "46ca3221-341e-41be-9f95-d3a4cbe8d7ad",
   "metadata": {},
   "outputs": [
    {
     "data": {
      "text/plain": [
       "43.43000000000001"
      ]
     },
     "execution_count": 54,
     "metadata": {},
     "output_type": "execute_result"
    }
   ],
   "source": [
    "# Suma de dos flots\n",
    "10.23 + 33.2"
   ]
  },
  {
   "cell_type": "code",
   "execution_count": 55,
   "id": "de88e51a-dd60-43a3-a5d3-e6532c156f97",
   "metadata": {},
   "outputs": [
    {
     "data": {
      "text/plain": [
       "47.2"
      ]
     },
     "execution_count": 55,
     "metadata": {},
     "output_type": "execute_result"
    }
   ],
   "source": [
    "# Suma de un int y un flot\n",
    "20 + 27.2"
   ]
  },
  {
   "cell_type": "markdown",
   "id": "ffa12f19-bcd0-4e22-bc1e-4a0bb4cc353e",
   "metadata": {},
   "source": [
    "* Para realizar una resta en Python, usamos el operador **-**"
   ]
  },
  {
   "cell_type": "code",
   "execution_count": 56,
   "id": "c9208e4d-1f2e-4a3e-9a96-72dce69c0704",
   "metadata": {},
   "outputs": [
    {
     "data": {
      "text/plain": [
       "-7"
      ]
     },
     "execution_count": 56,
     "metadata": {},
     "output_type": "execute_result"
    }
   ],
   "source": [
    "# Resta de dos ints\n",
    "3 - 10"
   ]
  },
  {
   "cell_type": "code",
   "execution_count": 57,
   "id": "4e4ec8e2-87a6-4e14-8fea-00ed2609941a",
   "metadata": {},
   "outputs": [
    {
     "data": {
      "text/plain": [
       "22.0"
      ]
     },
     "execution_count": 57,
     "metadata": {},
     "output_type": "execute_result"
    }
   ],
   "source": [
    "# Resta de dos floats\n",
    "22.2 - 0.2"
   ]
  },
  {
   "cell_type": "markdown",
   "id": "4cd17399-811f-4c5c-9b2a-92701aac79ae",
   "metadata": {},
   "source": [
    "* Para realizar una multiplicación en Python, usamos el operador *\n",
    "\n",
    "**CUIDADO: No se utiliza el punto ni tampoco x para las multiplicaciones, solo el asterisco.**"
   ]
  },
  {
   "cell_type": "code",
   "execution_count": 58,
   "id": "028928fc-d565-4460-be74-bbf80917c8b3",
   "metadata": {},
   "outputs": [
    {
     "data": {
      "text/plain": [
       "6"
      ]
     },
     "execution_count": 58,
     "metadata": {},
     "output_type": "execute_result"
    }
   ],
   "source": [
    "# Multiplicación de dos ints\n",
    "3 * 2"
   ]
  },
  {
   "cell_type": "code",
   "execution_count": 59,
   "id": "1cfba6aa-990d-4be2-936c-360e9e633dc5",
   "metadata": {},
   "outputs": [
    {
     "data": {
      "text/plain": [
       "110.25"
      ]
     },
     "execution_count": 59,
     "metadata": {},
     "output_type": "execute_result"
    }
   ],
   "source": [
    "# Multiplicación de dos floats\n",
    "10.5 * 10.5"
   ]
  },
  {
   "cell_type": "code",
   "execution_count": 60,
   "id": "a304c87a-68d0-40a0-b1b7-bc6ad32dc474",
   "metadata": {},
   "outputs": [
    {
     "data": {
      "text/plain": [
       "0.0"
      ]
     },
     "execution_count": 60,
     "metadata": {},
     "output_type": "execute_result"
    }
   ],
   "source": [
    "# Multiplicación de un float y un int\n",
    "10000000000000000.0 * 0"
   ]
  },
  {
   "cell_type": "markdown",
   "id": "0070a75d-3f39-42aa-a4ad-ee4cb364aae5",
   "metadata": {},
   "source": [
    "* Para realizar una división en Python, usamos el operador **/**. No existe la división con dos puntos. Los resultados automáticamente se transforman en números de tipo float, independiente de que los números utilizados y el resultado sean ints."
   ]
  },
  {
   "cell_type": "code",
   "execution_count": 61,
   "id": "1822a148-8819-4dcc-815c-f66c5270b8f1",
   "metadata": {},
   "outputs": [
    {
     "data": {
      "text/plain": [
       "10.0"
      ]
     },
     "execution_count": 61,
     "metadata": {},
     "output_type": "execute_result"
    }
   ],
   "source": [
    "# División de dos ints\n",
    "50 / 5"
   ]
  },
  {
   "cell_type": "code",
   "execution_count": 62,
   "id": "8d48a605-4a17-4e50-9b24-650394f0433e",
   "metadata": {},
   "outputs": [
    {
     "data": {
      "text/plain": [
       "26.5"
      ]
     },
     "execution_count": 62,
     "metadata": {},
     "output_type": "execute_result"
    }
   ],
   "source": [
    "# División de dos ints\n",
    "53 / 2"
   ]
  },
  {
   "cell_type": "code",
   "execution_count": 63,
   "id": "451f65ee-4097-45f0-83ce-8df68f90d7a5",
   "metadata": {},
   "outputs": [
    {
     "data": {
      "text/plain": [
       "10.0"
      ]
     },
     "execution_count": 63,
     "metadata": {},
     "output_type": "execute_result"
    }
   ],
   "source": [
    "# División de un float y un int\n",
    "100.0 / 10"
   ]
  },
  {
   "cell_type": "code",
   "execution_count": 64,
   "id": "43b65d5a-52e6-43f9-935e-d8307c3cd5b2",
   "metadata": {},
   "outputs": [
    {
     "data": {
      "text/plain": [
       "2.956521739130435"
      ]
     },
     "execution_count": 64,
     "metadata": {},
     "output_type": "execute_result"
    }
   ],
   "source": [
    "# División de dos floats\n",
    "27.2 / 9.2"
   ]
  },
  {
   "cell_type": "markdown",
   "id": "07737c33-79f5-40a6-878d-86904a581355",
   "metadata": {},
   "source": [
    "* Para realizar una división entera, usamos el operador **//**. Aquí los resultados serán ints a menos que se utiliza un número flotante. Basta que uno de los números sea float para que el resultado sea float."
   ]
  },
  {
   "cell_type": "code",
   "execution_count": 65,
   "id": "15bd056c-3f98-4bb1-89b7-f157b9d0572c",
   "metadata": {},
   "outputs": [
    {
     "data": {
      "text/plain": [
       "2.0"
      ]
     },
     "execution_count": 65,
     "metadata": {},
     "output_type": "execute_result"
    }
   ],
   "source": [
    "# División entera de dos floats\n",
    "27.2 // 9.2"
   ]
  },
  {
   "cell_type": "code",
   "execution_count": 66,
   "id": "2cbc18f6-a618-4232-b12a-97ecd3243097",
   "metadata": {},
   "outputs": [
    {
     "data": {
      "text/plain": [
       "10"
      ]
     },
     "execution_count": 66,
     "metadata": {},
     "output_type": "execute_result"
    }
   ],
   "source": [
    "# División entera de dos ints\n",
    "100 // 10"
   ]
  },
  {
   "cell_type": "code",
   "execution_count": 67,
   "id": "d78dd5bb-8625-4b16-a33f-95b7a873cc49",
   "metadata": {},
   "outputs": [
    {
     "data": {
      "text/plain": [
       "10"
      ]
     },
     "execution_count": 67,
     "metadata": {},
     "output_type": "execute_result"
    }
   ],
   "source": [
    "# Diisión entera de dos ints\n",
    "50 // 5"
   ]
  },
  {
   "cell_type": "code",
   "execution_count": 68,
   "id": "5aa97b71-37b1-4c8b-b5f6-8986530b5cf0",
   "metadata": {},
   "outputs": [
    {
     "data": {
      "text/plain": [
       "10.0"
      ]
     },
     "execution_count": 68,
     "metadata": {},
     "output_type": "execute_result"
    }
   ],
   "source": [
    "# División entera de dos floats\n",
    "100.0 // 10.0"
   ]
  },
  {
   "cell_type": "code",
   "execution_count": 69,
   "id": "b7232315-b8fd-40b0-9688-58c8bc421244",
   "metadata": {},
   "outputs": [
    {
     "data": {
      "text/plain": [
       "8.0"
      ]
     },
     "execution_count": 69,
     "metadata": {},
     "output_type": "execute_result"
    }
   ],
   "source": [
    "# División entera de un int y un float\n",
    "64 // 8.0"
   ]
  },
  {
   "cell_type": "markdown",
   "id": "11e8489a-1e28-4ff6-9d4c-22989169e69f",
   "metadata": {},
   "source": [
    "* Para obtener el resto de una división, se utiliza el operador **%**. Este operador se conoce como **modulo** y no tiene que ver con el porcentaje."
   ]
  },
  {
   "cell_type": "code",
   "execution_count": 70,
   "id": "72f1e06e-8b92-4401-9cec-166b45a1c646",
   "metadata": {},
   "outputs": [
    {
     "data": {
      "text/plain": [
       "1"
      ]
     },
     "execution_count": 70,
     "metadata": {},
     "output_type": "execute_result"
    }
   ],
   "source": [
    "# Modulo (resto de la división) entre dos ints\n",
    "5 % 2"
   ]
  },
  {
   "cell_type": "code",
   "execution_count": 71,
   "id": "0897207a-7e0f-447a-890f-85c014946106",
   "metadata": {},
   "outputs": [
    {
     "data": {
      "text/plain": [
       "0"
      ]
     },
     "execution_count": 71,
     "metadata": {},
     "output_type": "execute_result"
    }
   ],
   "source": [
    "# Modulo (resto de la división) entre dos ints\n",
    "10 % 2"
   ]
  },
  {
   "cell_type": "code",
   "execution_count": 72,
   "id": "24602249-2f29-4d33-81c1-d689fd4cdab7",
   "metadata": {},
   "outputs": [
    {
     "data": {
      "text/plain": [
       "62.80000000000001"
      ]
     },
     "execution_count": 72,
     "metadata": {},
     "output_type": "execute_result"
    }
   ],
   "source": [
    "# Modulo (resto de la división) entre un int y un float\n",
    "572 % 127.3"
   ]
  },
  {
   "cell_type": "code",
   "execution_count": 73,
   "id": "582d3dd1-2223-4486-b839-a1e6e246f6b0",
   "metadata": {},
   "outputs": [
    {
     "data": {
      "text/plain": [
       "176.40000000000003"
      ]
     },
     "execution_count": 73,
     "metadata": {},
     "output_type": "execute_result"
    }
   ],
   "source": [
    "# Modulo (resto de la división) entre un int y un float\n",
    "573.2 % 198.4"
   ]
  },
  {
   "cell_type": "markdown",
   "id": "1877325c-283f-4f8e-98b2-73f4430f0498",
   "metadata": {},
   "source": [
    "Para elevar un número se utiliza el operador <b>**.</b> Esta operación también se conoce como exponenciación."
   ]
  },
  {
   "cell_type": "code",
   "execution_count": 74,
   "id": "9e04bcfc-d2ee-4b7d-a031-fce6f97c94aa",
   "metadata": {},
   "outputs": [
    {
     "data": {
      "text/plain": [
       "64"
      ]
     },
     "execution_count": 74,
     "metadata": {},
     "output_type": "execute_result"
    }
   ],
   "source": [
    "# Un int elevado a otro int\n",
    "2**6"
   ]
  },
  {
   "cell_type": "code",
   "execution_count": 75,
   "id": "d8e6e852-7a6c-42c0-bd48-210030d73ddf",
   "metadata": {},
   "outputs": [
    {
     "data": {
      "text/plain": [
       "400"
      ]
     },
     "execution_count": 75,
     "metadata": {},
     "output_type": "execute_result"
    }
   ],
   "source": [
    "# Un int elevado a otro int\n",
    "20**2"
   ]
  },
  {
   "cell_type": "code",
   "execution_count": 76,
   "id": "595dd0be-1dd0-47e9-a1ec-f9e1518f96fe",
   "metadata": {},
   "outputs": [
    {
     "data": {
      "text/plain": [
       "512.0"
      ]
     },
     "execution_count": 76,
     "metadata": {},
     "output_type": "execute_result"
    }
   ],
   "source": [
    "# Un float elevado a un int\n",
    "8.0**3"
   ]
  },
  {
   "cell_type": "code",
   "execution_count": 77,
   "id": "8160d773-e950-4b59-a32f-aa9388800ea2",
   "metadata": {},
   "outputs": [
    {
     "data": {
      "text/plain": [
       "21.112126572366314"
      ]
     },
     "execution_count": 77,
     "metadata": {},
     "output_type": "execute_result"
    }
   ],
   "source": [
    "# Un int elevado a un float\n",
    "4 ** 2.2"
   ]
  },
  {
   "attachments": {
    "ad3c70dc-3447-437a-84c4-998591afe84c.png": {
     "image/png": "[encoded data removed]"
    }
   },
   "cell_type": "markdown",
   "id": "a6569e0c-343f-4130-86d8-f8c208da94d5",
   "metadata": {},
   "source": [
    "# **Orden en operadores aritméticas**\n",
    "\n",
    "![image.png](attachment:ad3c70dc-3447-437a-84c4-998591afe84c.png)"
   ]
  },
  {
   "cell_type": "markdown",
   "id": "d2f92076-3a53-4906-af8f-79f544fafbad",
   "metadata": {},
   "source": [
    "La tabla anterior describe el orden que se debe respetar junto con la asociatividad. Es importante tener en consideración que al igual que en Cálculo y/o Álgebra, el uso de paréntesis puede modificar el orden de operaciones"
   ]
  },
  {
   "cell_type": "code",
   "execution_count": 78,
   "id": "f593ef0e-3230-4690-ade1-8cd38b940db5",
   "metadata": {},
   "outputs": [
    {
     "data": {
      "text/plain": [
       "75.0"
      ]
     },
     "execution_count": 78,
     "metadata": {},
     "output_type": "execute_result"
    }
   ],
   "source": [
    "# Operacion sin parentesis\n",
    "5 + 5 ** 3 / 5 * 4 - 10 * 3"
   ]
  },
  {
   "cell_type": "code",
   "execution_count": 79,
   "id": "f60ea6be-79b5-4dd0-a06e-9759c0313e3a",
   "metadata": {},
   "outputs": [
    {
     "data": {
      "text/plain": [
       "770.0"
      ]
     },
     "execution_count": 79,
     "metadata": {},
     "output_type": "execute_result"
    }
   ],
   "source": [
    "# Operación con parentesis (cambia el orden dado los parentesis, los cuales tienen preferencia)\n",
    "(5 + 5) ** 3 / 5 * 4 - 10 * 3"
   ]
  },
  {
   "cell_type": "markdown",
   "id": "9c6544bf-8871-4eb9-94ee-11fcff002802",
   "metadata": {},
   "source": [
    "# **Variables y asignación**\n",
    "\n",
    "En Python, una variable es un lugar donde podemos guardar un valor en memoria para poder reutilizarlo en un futuro. Una variable puede ser modificada y es ahí donde se deben guardar valores importantes del problema, resultados, valores temporales, entre otros. Por buenas prácticas, siempre es recomendable colocarle a una variable un nombre representativo de lo que es, aunque se le puede colocar cualquier nombre en realidad siempre y cuando el nombre no contenga caracteres no aceptados por Python o espacios al inicio. Si se requiere un nombre de variable que lleve espacios, los espacios deben reemplazarse por guiones bajos (EJ: nombre_variable) y si la variable contiene algo que no va a cambiar durante toda la ejecución del código, es decir, un valor fijo, entonces el nombre debe estar en mayúsculas (EJ: NOMBRE_VARIABLE).  Para asignar un valor a un elemento, debemos utilizar el operador **=**. Podemos utilizar la instrucción **print()** para ver en la consola el contenido de una variable."
   ]
  },
  {
   "cell_type": "code",
   "execution_count": 80,
   "id": "62fe36a3-9bf5-4e18-bcfc-33d0f6abd8b6",
   "metadata": {},
   "outputs": [
    {
     "name": "stdout",
     "output_type": "stream",
     "text": [
      "2\n"
     ]
    }
   ],
   "source": [
    "# Guardo el valor 2 (int) en una variable de nombre \"variable\"\n",
    "variable = 2\n",
    "\n",
    "# Imprimo el contenido de la variable \"variable\"\n",
    "print(variable)"
   ]
  },
  {
   "cell_type": "code",
   "execution_count": 81,
   "id": "947a0b21-6b75-4a99-a9de-d1fb70423e3d",
   "metadata": {},
   "outputs": [
    {
     "name": "stdout",
     "output_type": "stream",
     "text": [
      "Hola! Mi nombre es: John\n"
     ]
    }
   ],
   "source": [
    "# Guardo el string \"John\" en la variable \"nombre\"\n",
    "nombre = \"John\"\n",
    "\n",
    "# Imprimo el contenido de mi variable junto con el mensaje \"Hola! Mi nombre es:\"\n",
    "print(\"Hola! Mi nombre es:\" , nombre)"
   ]
  },
  {
   "cell_type": "markdown",
   "id": "830fd05f-0fde-4612-b050-9adb7c796bec",
   "metadata": {},
   "source": [
    "Nótese que el ejemplo anterior demuestra que **print()** acepta distintas cantidades de strings, los cuales deben estar separados por una coma (,).\n",
    "\n",
    "Las variables cuyo valor no cambian se conocen como **Constantes** y como se dijo anteriormente, deben escribirse en mayúsculas. Hay que tener un poco de cuidado al nombrar las variables, ya que, si bien tenemos libre libertad de colocar cualquier nombre de variable, existen algunas palabras reservadas que no pueden ser utilizadas como nombres de variables.\n",
    "\n",
    "En las siguientes tablas se presentan nombres de variables y constantes adecuados y no adecuados para el curso:"
   ]
  },
  {
   "attachments": {
    "f8265024-2c06-4296-ac02-d14fd6627af3.png": {
     "image/png": "[encoded data removed]"
    }
   },
   "cell_type": "markdown",
   "id": "deecf761-e235-4295-83d0-0ab7eb4f6566",
   "metadata": {},
   "source": [
    "![image.png](attachment:f8265024-2c06-4296-ac02-d14fd6627af3.png)"
   ]
  },
  {
   "attachments": {
    "268453a4-c520-433c-ae27-1e4342adcb0f.png": {
     "image/png": "[encoded data removed]"
    }
   },
   "cell_type": "markdown",
   "id": "290819f7-4264-415e-a8d8-13c75905e5c9",
   "metadata": {},
   "source": [
    "![image.png](attachment:268453a4-c520-433c-ae27-1e4342adcb0f.png)"
   ]
  },
  {
   "cell_type": "markdown",
   "id": "d0c066f0-3db5-4878-909c-9a9a25118c24",
   "metadata": {},
   "source": [
    "Por último, mencionar que en Python NO debemos utilizar tildes ni la letra Ñ, dado que eso puede ocasionar problemas con la interpretación de nuestro código al ejecutarlo (dado que Python se rige por el inglés más que por el español)."
   ]
  },
  {
   "cell_type": "markdown",
   "id": "83773ef7-6772-4a82-a961-3143587d9b50",
   "metadata": {},
   "source": [
    "# **Extra (Pero importante para poder realizar los ejercicios): Entradas**\n",
    "\n",
    "Si utilizamos la función **input()**, podemos recibir una entrada por teclado por parte del propio usuario cuando se ejecute el código. Esta entrada puede ser guardada en una variable y dentro de los paréntesis de input podemos escribir un mensaje en formato String para indicar al usuario cual es el dato que se espera que se ingrese."
   ]
  },
  {
   "cell_type": "code",
   "execution_count": 82,
   "id": "27780795-04bc-4a95-b117-8612c3cf5e99",
   "metadata": {},
   "outputs": [
    {
     "name": "stdin",
     "output_type": "stream",
     "text": [
      "Ingrese su edad:  23\n"
     ]
    }
   ],
   "source": [
    "# Se solicita que el usuario ingrese su edad\n",
    "edad = input(\"Ingrese su edad: \")"
   ]
  },
  {
   "cell_type": "markdown",
   "id": "a80f1482-da55-47fc-93dd-08bb78663afe",
   "metadata": {},
   "source": [
    "Si se utiliza la función <b>type()</b> que se mencionó al inicio de la guía, se puede comprobar que edad es una variable de tipo string, a pesar de que se ingresó un número por el teclado. Esto es porque Python automáticamente transforma todas las entradas a formato String por defecto."
   ]
  },
  {
   "cell_type": "code",
   "execution_count": 83,
   "id": "0562e09b-0726-4da6-aa77-227c5940c093",
   "metadata": {},
   "outputs": [
    {
     "data": {
      "text/plain": [
       "str"
      ]
     },
     "execution_count": 83,
     "metadata": {},
     "output_type": "execute_result"
    }
   ],
   "source": [
    "# Se comprueba el tipo de dato de la variable edad\n",
    "type(edad)"
   ]
  },
  {
   "cell_type": "markdown",
   "id": "d4b0a110-4eb0-46fa-bbfb-3494af5cdf7e",
   "metadata": {},
   "source": [
    "Entonces, si queremos que una entrada si o si sea de un tipo de dato especifico, podemos combinar las funciones de transformación que también se vieron en la guía para transformar la entrada."
   ]
  },
  {
   "cell_type": "code",
   "execution_count": 84,
   "id": "a294ffed-06e9-446f-a8ed-e87063fd1d50",
   "metadata": {},
   "outputs": [
    {
     "name": "stdin",
     "output_type": "stream",
     "text": [
      "Ingrese su edad:  23\n"
     ]
    },
    {
     "data": {
      "text/plain": [
       "int"
      ]
     },
     "execution_count": 84,
     "metadata": {},
     "output_type": "execute_result"
    }
   ],
   "source": [
    "# Se combina el uso de int() con input() para obtener una entrada con tipo de dato int\n",
    "edad = int(input(\"Ingrese su edad: \"))\n",
    "type(edad)"
   ]
  },
  {
   "cell_type": "code",
   "execution_count": 85,
   "id": "76b75b8e-f06a-450e-b152-f35e5063c4fd",
   "metadata": {},
   "outputs": [
    {
     "name": "stdin",
     "output_type": "stream",
     "text": [
      "Ingrese un numero flotante:  3\n"
     ]
    },
    {
     "data": {
      "text/plain": [
       "float"
      ]
     },
     "execution_count": 85,
     "metadata": {},
     "output_type": "execute_result"
    }
   ],
   "source": [
    "flotante = float(input(\"Ingrese un numero flotante: \"))\n",
    "type (flotante)"
   ]
  }
 ],
 "metadata": {
  "kernelspec": {
   "display_name": "Python 3 (ipykernel)",
   "language": "python",
   "name": "python3"
  },
  "language_info": {
   "codemirror_mode": {
    "name": "ipython",
    "version": 3
   },
   "file_extension": ".py",
   "mimetype": "text/x-python",
   "name": "python",
   "nbconvert_exporter": "python",
   "pygments_lexer": "ipython3",
   "version": "3.11.7"
  }
 },
 "nbformat": 4,
 "nbformat_minor": 5
}
